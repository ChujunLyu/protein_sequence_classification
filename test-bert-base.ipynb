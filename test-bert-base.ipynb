{
 "cells": [
  {
   "cell_type": "code",
   "execution_count": 1,
   "id": "38afa2de",
   "metadata": {
    "execution": {
     "iopub.execute_input": "2021-12-04T08:35:51.331806Z",
     "iopub.status.busy": "2021-12-04T08:35:51.329499Z",
     "iopub.status.idle": "2021-12-04T08:35:51.333166Z",
     "shell.execute_reply": "2021-12-04T08:35:51.334352Z",
     "shell.execute_reply.started": "2021-11-07T02:02:46.727331Z"
    },
    "papermill": {
     "duration": 0.046797,
     "end_time": "2021-12-04T08:35:51.334601",
     "exception": false,
     "start_time": "2021-12-04T08:35:51.287804",
     "status": "completed"
    },
    "tags": []
   },
   "outputs": [],
   "source": [
    "#data preparing"
   ]
  },
  {
   "cell_type": "code",
   "execution_count": 2,
   "id": "15e04788",
   "metadata": {
    "execution": {
     "iopub.execute_input": "2021-12-04T08:35:51.413144Z",
     "iopub.status.busy": "2021-12-04T08:35:51.412069Z",
     "iopub.status.idle": "2021-12-04T08:35:52.769829Z",
     "shell.execute_reply": "2021-12-04T08:35:52.770353Z",
     "shell.execute_reply.started": "2021-12-04T08:09:02.214127Z"
    },
    "papermill": {
     "duration": 1.399712,
     "end_time": "2021-12-04T08:35:52.770542",
     "exception": false,
     "start_time": "2021-12-04T08:35:51.370830",
     "status": "completed"
    },
    "tags": []
   },
   "outputs": [
    {
     "data": {
      "text/html": [
       "<div>\n",
       "<style scoped>\n",
       "    .dataframe tbody tr th:only-of-type {\n",
       "        vertical-align: middle;\n",
       "    }\n",
       "\n",
       "    .dataframe tbody tr th {\n",
       "        vertical-align: top;\n",
       "    }\n",
       "\n",
       "    .dataframe thead th {\n",
       "        text-align: right;\n",
       "    }\n",
       "</style>\n",
       "<table border=\"1\" class=\"dataframe\">\n",
       "  <thead>\n",
       "    <tr style=\"text-align: right;\">\n",
       "      <th></th>\n",
       "      <th>Meta</th>\n",
       "      <th>Sequence</th>\n",
       "      <th>Label</th>\n",
       "    </tr>\n",
       "  </thead>\n",
       "  <tbody>\n",
       "    <tr>\n",
       "      <th>0</th>\n",
       "      <td>Psol_train_0</td>\n",
       "      <td>GMILKTNLFGHTYQFKSITDVLAKANEEKSGDRLAGVAAESAEERV...</td>\n",
       "      <td>1</td>\n",
       "    </tr>\n",
       "    <tr>\n",
       "      <th>1</th>\n",
       "      <td>Psol_train_1</td>\n",
       "      <td>MAHHHHHHMSFFRMKRRLNFVVKRGIEELWENSFLDNNVDMKKIEY...</td>\n",
       "      <td>0</td>\n",
       "    </tr>\n",
       "    <tr>\n",
       "      <th>2</th>\n",
       "      <td>Psol_train_2</td>\n",
       "      <td>MGSDKIHHHHHHMEKSIQDTIHGVIKLEDWMVEIVDTPQFQRLRRI...</td>\n",
       "      <td>0</td>\n",
       "    </tr>\n",
       "    <tr>\n",
       "      <th>3</th>\n",
       "      <td>Psol_train_3</td>\n",
       "      <td>MEKYIHSVEDYHRLISYLENNLNYEDSVVNHVIYVIAKTGMRYGEI...</td>\n",
       "      <td>0</td>\n",
       "    </tr>\n",
       "    <tr>\n",
       "      <th>4</th>\n",
       "      <td>Psol_train_4</td>\n",
       "      <td>MSLTDSFTVRSIEGVCFRYPLATPVVTSFGKMLNRPAVFVRVVDED...</td>\n",
       "      <td>0</td>\n",
       "    </tr>\n",
       "  </tbody>\n",
       "</table>\n",
       "</div>"
      ],
      "text/plain": [
       "           Meta                                           Sequence  Label\n",
       "0  Psol_train_0  GMILKTNLFGHTYQFKSITDVLAKANEEKSGDRLAGVAAESAEERV...      1\n",
       "1  Psol_train_1  MAHHHHHHMSFFRMKRRLNFVVKRGIEELWENSFLDNNVDMKKIEY...      0\n",
       "2  Psol_train_2  MGSDKIHHHHHHMEKSIQDTIHGVIKLEDWMVEIVDTPQFQRLRRI...      0\n",
       "3  Psol_train_3  MEKYIHSVEDYHRLISYLENNLNYEDSVVNHVIYVIAKTGMRYGEI...      0\n",
       "4  Psol_train_4  MSLTDSFTVRSIEGVCFRYPLATPVVTSFGKMLNRPAVFVRVVDED...      0"
      ]
     },
     "execution_count": 2,
     "metadata": {},
     "output_type": "execute_result"
    }
   ],
   "source": [
    "import numpy as np \n",
    "import pandas as pd\n",
    "train_data1 = pd.read_csv('../input/dataset/solubility_train.csv')\n",
    "dev_data1 = pd.read_csv('../input/dataset/solubility_dev.csv')\n",
    "test_data = pd.read_csv('../input/dataset/solubility_test.csv')\n",
    "train_data = pd.concat([train_data1,dev_data1])\n",
    "train_data.head()"
   ]
  },
  {
   "cell_type": "code",
   "execution_count": 3,
   "id": "2211c5c3",
   "metadata": {
    "execution": {
     "iopub.execute_input": "2021-12-04T08:35:52.848688Z",
     "iopub.status.busy": "2021-12-04T08:35:52.847763Z",
     "iopub.status.idle": "2021-12-04T08:36:11.842109Z",
     "shell.execute_reply": "2021-12-04T08:36:11.841081Z",
     "shell.execute_reply.started": "2021-12-04T08:09:05.838659Z"
    },
    "papermill": {
     "duration": 19.036447,
     "end_time": "2021-12-04T08:36:11.842258",
     "exception": false,
     "start_time": "2021-12-04T08:35:52.805811",
     "status": "completed"
    },
    "tags": []
   },
   "outputs": [
    {
     "name": "stdout",
     "output_type": "stream",
     "text": [
      "Collecting pytorch_pretrained_bert\r\n",
      "  Downloading pytorch_pretrained_bert-0.6.2-py3-none-any.whl (123 kB)\r\n",
      "\u001b[K     |████████████████████████████████| 123 kB 639 kB/s \r\n",
      "\u001b[?25hRequirement already satisfied: boto3 in /opt/conda/lib/python3.7/site-packages (from pytorch_pretrained_bert) (1.19.4)\r\n",
      "Requirement already satisfied: requests in /opt/conda/lib/python3.7/site-packages (from pytorch_pretrained_bert) (2.25.1)\r\n",
      "Requirement already satisfied: regex in /opt/conda/lib/python3.7/site-packages (from pytorch_pretrained_bert) (2021.8.28)\r\n",
      "Requirement already satisfied: numpy in /opt/conda/lib/python3.7/site-packages (from pytorch_pretrained_bert) (1.19.5)\r\n",
      "Requirement already satisfied: torch>=0.4.1 in /opt/conda/lib/python3.7/site-packages (from pytorch_pretrained_bert) (1.9.1)\r\n",
      "Requirement already satisfied: tqdm in /opt/conda/lib/python3.7/site-packages (from pytorch_pretrained_bert) (4.62.3)\r\n",
      "Requirement already satisfied: typing-extensions in /opt/conda/lib/python3.7/site-packages (from torch>=0.4.1->pytorch_pretrained_bert) (3.10.0.2)\r\n",
      "Requirement already satisfied: botocore<1.23.0,>=1.22.4 in /opt/conda/lib/python3.7/site-packages (from boto3->pytorch_pretrained_bert) (1.22.4)\r\n",
      "Requirement already satisfied: s3transfer<0.6.0,>=0.5.0 in /opt/conda/lib/python3.7/site-packages (from boto3->pytorch_pretrained_bert) (0.5.0)\r\n",
      "Requirement already satisfied: jmespath<1.0.0,>=0.7.1 in /opt/conda/lib/python3.7/site-packages (from boto3->pytorch_pretrained_bert) (0.10.0)\r\n",
      "Requirement already satisfied: urllib3<1.27,>=1.25.4 in /opt/conda/lib/python3.7/site-packages (from botocore<1.23.0,>=1.22.4->boto3->pytorch_pretrained_bert) (1.26.6)\r\n",
      "Requirement already satisfied: python-dateutil<3.0.0,>=2.1 in /opt/conda/lib/python3.7/site-packages (from botocore<1.23.0,>=1.22.4->boto3->pytorch_pretrained_bert) (2.8.0)\r\n",
      "Requirement already satisfied: six>=1.5 in /opt/conda/lib/python3.7/site-packages (from python-dateutil<3.0.0,>=2.1->botocore<1.23.0,>=1.22.4->boto3->pytorch_pretrained_bert) (1.16.0)\r\n",
      "Requirement already satisfied: certifi>=2017.4.17 in /opt/conda/lib/python3.7/site-packages (from requests->pytorch_pretrained_bert) (2021.10.8)\r\n",
      "Requirement already satisfied: idna<3,>=2.5 in /opt/conda/lib/python3.7/site-packages (from requests->pytorch_pretrained_bert) (2.10)\r\n",
      "Requirement already satisfied: chardet<5,>=3.0.2 in /opt/conda/lib/python3.7/site-packages (from requests->pytorch_pretrained_bert) (4.0.0)\r\n",
      "Installing collected packages: pytorch-pretrained-bert\r\n",
      "Successfully installed pytorch-pretrained-bert-0.6.2\r\n",
      "\u001b[33mWARNING: Running pip as the 'root' user can result in broken permissions and conflicting behaviour with the system package manager. It is recommended to use a virtual environment instead: https://pip.pypa.io/warnings/venv\u001b[0m\r\n"
     ]
    }
   ],
   "source": [
    "! pip install pytorch_pretrained_bert\n",
    "import sys\n",
    "import numpy as np\n",
    "import random as rn\n",
    "import pandas as pd\n",
    "import torch\n",
    "from pytorch_pretrained_bert import BertModel\n",
    "from torch import nn\n",
    "from pytorch_pretrained_bert import BertTokenizer\n",
    "from keras.preprocessing.sequence import pad_sequences\n",
    "from torch.utils.data import TensorDataset, DataLoader, RandomSampler, SequentialSampler\n",
    "from torch.optim import Adam\n",
    "from torch.nn.utils import clip_grad_norm_\n",
    "from IPython.display import clear_output\n",
    "import matplotlib.pyplot as plt"
   ]
  },
  {
   "cell_type": "code",
   "execution_count": 4,
   "id": "624321ec",
   "metadata": {
    "execution": {
     "iopub.execute_input": "2021-12-04T08:36:11.922907Z",
     "iopub.status.busy": "2021-12-04T08:36:11.922225Z",
     "iopub.status.idle": "2021-12-04T08:36:11.928047Z",
     "shell.execute_reply": "2021-12-04T08:36:11.927375Z",
     "shell.execute_reply.started": "2021-12-04T08:09:20.944847Z"
    },
    "papermill": {
     "duration": 0.048299,
     "end_time": "2021-12-04T08:36:11.928199",
     "exception": false,
     "start_time": "2021-12-04T08:36:11.879900",
     "status": "completed"
    },
    "tags": []
   },
   "outputs": [],
   "source": [
    "#初始化种子稳定结果\n",
    "rn.seed(321)\n",
    "np.random.seed(321)\n",
    "torch.manual_seed(321)\n",
    "torch.cuda.manual_seed(321)"
   ]
  },
  {
   "cell_type": "code",
   "execution_count": 5,
   "id": "bcba6459",
   "metadata": {
    "execution": {
     "iopub.execute_input": "2021-12-04T08:36:12.036420Z",
     "iopub.status.busy": "2021-12-04T08:36:12.026012Z",
     "iopub.status.idle": "2021-12-04T08:36:12.379931Z",
     "shell.execute_reply": "2021-12-04T08:36:12.380479Z",
     "shell.execute_reply.started": "2021-12-04T08:09:33.153066Z"
    },
    "papermill": {
     "duration": 0.416361,
     "end_time": "2021-12-04T08:36:12.380668",
     "exception": false,
     "start_time": "2021-12-04T08:36:11.964307",
     "status": "completed"
    },
    "tags": []
   },
   "outputs": [
    {
     "data": {
      "text/plain": [
       "list"
      ]
     },
     "execution_count": 5,
     "metadata": {},
     "output_type": "execute_result"
    }
   ],
   "source": [
    "train_data = train_data[:-1]\n",
    "test_data = test_data[:-1]\n",
    "\n",
    "train_data = train_data.to_dict(orient='records')\n",
    "test_data = test_data.to_dict(orient='records')\n",
    "type(train_data)"
   ]
  },
  {
   "cell_type": "code",
   "execution_count": 6,
   "id": "4f47bf47",
   "metadata": {
    "execution": {
     "iopub.execute_input": "2021-12-04T08:36:12.507999Z",
     "iopub.status.busy": "2021-12-04T08:36:12.478762Z",
     "iopub.status.idle": "2021-12-04T08:36:12.517312Z",
     "shell.execute_reply": "2021-12-04T08:36:12.516713Z",
     "shell.execute_reply.started": "2021-12-04T08:09:36.457440Z"
    },
    "papermill": {
     "duration": 0.099281,
     "end_time": "2021-12-04T08:36:12.517454",
     "exception": false,
     "start_time": "2021-12-04T08:36:12.418173",
     "status": "completed"
    },
    "tags": []
   },
   "outputs": [
    {
     "data": {
      "text/plain": [
       "(69419, 69419, 2000, 2000)"
      ]
     },
     "execution_count": 6,
     "metadata": {},
     "output_type": "execute_result"
    }
   ],
   "source": [
    "train_seq, train_labels = list(zip(*map(lambda d: (d['Sequence'], d['Label']), train_data)))\n",
    "test_seq, test_labels = list(zip(*map(lambda d: (d['Sequence'], d['Label']), test_data)))\n",
    "\n",
    "len(train_seq), len(train_labels), len(test_seq), len(test_labels)"
   ]
  },
  {
   "cell_type": "code",
   "execution_count": 7,
   "id": "fc7529af",
   "metadata": {
    "execution": {
     "iopub.execute_input": "2021-12-04T08:36:12.599856Z",
     "iopub.status.busy": "2021-12-04T08:36:12.599038Z",
     "iopub.status.idle": "2021-12-04T08:36:12.602609Z",
     "shell.execute_reply": "2021-12-04T08:36:12.603213Z",
     "shell.execute_reply.started": "2021-12-04T08:09:38.547336Z"
    },
    "papermill": {
     "duration": 0.047499,
     "end_time": "2021-12-04T08:36:12.603390",
     "exception": false,
     "start_time": "2021-12-04T08:36:12.555891",
     "status": "completed"
    },
    "tags": []
   },
   "outputs": [
    {
     "data": {
      "text/plain": [
       "'GMILKTNLFGHTYQFKSITDVLAKANEEKSGDRLAGVAAESAEERVAAKVVLSKMTLGDLRNNPVVPYETDEVTRIIQDQVNDRIHDSIKNWTVEELREWILDHKTTDADIKRVARGLTSEIIAAVTKLMSNLDLIYGAKKIRVIAHANTTIGLPGTFSARLQPNHPTDDPDGILASLMEGLTYGIGDAVIGLNPVDDSTDSVVRLLNKFEEFRSKWDVPTQTCVLAHVKTQMEAMRRGAPTGLVFQSIAGSEKGNTAFGFDGATIEEARQLALQSGAATGPNVMYFETGQGSELSSDAHFGVDQVTMEARCYGFAKKFDPFLVNTVVGFIGPEYLYDSKQVIRAGLEDHFMGKLTGISMGCDVCYTNHMKADQNDVENLSVLLTAAGCNFIMGIPHGDDVMLNYQTTGYHETATLRELFGLKPIKEFDQWMEKMGFSENGKLTSRAGDASIFLK'"
      ]
     },
     "execution_count": 7,
     "metadata": {},
     "output_type": "execute_result"
    }
   ],
   "source": [
    "train_seq[0]"
   ]
  },
  {
   "cell_type": "code",
   "execution_count": 8,
   "id": "1d821fb4",
   "metadata": {
    "execution": {
     "iopub.execute_input": "2021-12-04T08:36:12.683220Z",
     "iopub.status.busy": "2021-12-04T08:36:12.682250Z",
     "iopub.status.idle": "2021-12-04T08:36:12.685255Z",
     "shell.execute_reply": "2021-12-04T08:36:12.684705Z",
     "shell.execute_reply.started": "2021-11-07T02:05:05.339406Z"
    },
    "papermill": {
     "duration": 0.043311,
     "end_time": "2021-12-04T08:36:12.685387",
     "exception": false,
     "start_time": "2021-12-04T08:36:12.642076",
     "status": "completed"
    },
    "tags": []
   },
   "outputs": [],
   "source": [
    "#Preparing Token embeddings"
   ]
  },
  {
   "cell_type": "code",
   "execution_count": 9,
   "id": "4c848ed7",
   "metadata": {
    "execution": {
     "iopub.execute_input": "2021-12-04T08:36:12.765227Z",
     "iopub.status.busy": "2021-12-04T08:36:12.764181Z",
     "iopub.status.idle": "2021-12-04T08:36:14.066896Z",
     "shell.execute_reply": "2021-12-04T08:36:14.066373Z",
     "shell.execute_reply.started": "2021-12-04T08:09:46.745854Z"
    },
    "papermill": {
     "duration": 1.345057,
     "end_time": "2021-12-04T08:36:14.067053",
     "exception": false,
     "start_time": "2021-12-04T08:36:12.721996",
     "status": "completed"
    },
    "tags": []
   },
   "outputs": [
    {
     "name": "stderr",
     "output_type": "stream",
     "text": [
      "100%|██████████| 231508/231508 [00:00<00:00, 719165.91B/s]\n"
     ]
    }
   ],
   "source": [
    "tokenizer = BertTokenizer.from_pretrained('bert-base-uncased')"
   ]
  },
  {
   "cell_type": "code",
   "execution_count": 10,
   "id": "89bf3f90",
   "metadata": {
    "execution": {
     "iopub.execute_input": "2021-12-04T08:36:14.174697Z",
     "iopub.status.busy": "2021-12-04T08:36:14.173705Z",
     "iopub.status.idle": "2021-12-04T08:37:47.803669Z",
     "shell.execute_reply": "2021-12-04T08:37:47.804243Z",
     "shell.execute_reply.started": "2021-12-04T08:09:48.315948Z"
    },
    "papermill": {
     "duration": 93.694527,
     "end_time": "2021-12-04T08:37:47.804471",
     "exception": false,
     "start_time": "2021-12-04T08:36:14.109944",
     "status": "completed"
    },
    "tags": []
   },
   "outputs": [
    {
     "data": {
      "text/plain": [
       "(69419, 2000)"
      ]
     },
     "execution_count": 10,
     "metadata": {},
     "output_type": "execute_result"
    }
   ],
   "source": [
    "train_tokens = list(map(lambda t: ['[CLS]'] + tokenizer.tokenize(t)[:510] + ['[SEP]'], train_seq))\n",
    "test_tokens = list(map(lambda t: ['[CLS]'] + tokenizer.tokenize(t)[:510] + ['[SEP]'], test_seq))\n",
    "len(train_tokens), len(test_tokens)"
   ]
  },
  {
   "cell_type": "code",
   "execution_count": 11,
   "id": "194bc513",
   "metadata": {
    "execution": {
     "iopub.execute_input": "2021-12-04T08:37:47.935349Z",
     "iopub.status.busy": "2021-12-04T08:37:47.924835Z",
     "iopub.status.idle": "2021-12-04T08:37:48.535886Z",
     "shell.execute_reply": "2021-12-04T08:37:48.535337Z",
     "shell.execute_reply.started": "2021-12-04T08:11:09.299254Z"
    },
    "papermill": {
     "duration": 0.690975,
     "end_time": "2021-12-04T08:37:48.536056",
     "exception": false,
     "start_time": "2021-12-04T08:37:47.845081",
     "status": "completed"
    },
    "tags": []
   },
   "outputs": [
    {
     "data": {
      "text/plain": [
       "((69419, 512), (2000, 512))"
      ]
     },
     "execution_count": 11,
     "metadata": {},
     "output_type": "execute_result"
    }
   ],
   "source": [
    "#Preparing Token IDs\n",
    "train_tokens_ids = pad_sequences(list(map(tokenizer.convert_tokens_to_ids, train_tokens)), maxlen=512, truncating=\"post\", padding=\"post\", dtype=\"int\")\n",
    "test_tokens_ids = pad_sequences(list(map(tokenizer.convert_tokens_to_ids, test_tokens)), maxlen=512, truncating=\"post\", padding=\"post\", dtype=\"int\")\n",
    "train_tokens_ids.shape, test_tokens_ids.shape"
   ]
  },
  {
   "cell_type": "code",
   "execution_count": 12,
   "id": "92b58470",
   "metadata": {
    "execution": {
     "iopub.execute_input": "2021-12-04T08:37:48.635911Z",
     "iopub.status.busy": "2021-12-04T08:37:48.634558Z",
     "iopub.status.idle": "2021-12-04T08:37:48.643043Z",
     "shell.execute_reply": "2021-12-04T08:37:48.642486Z",
     "shell.execute_reply.started": "2021-12-04T08:11:09.845726Z"
    },
    "papermill": {
     "duration": 0.066507,
     "end_time": "2021-12-04T08:37:48.643192",
     "exception": false,
     "start_time": "2021-12-04T08:37:48.576685",
     "status": "completed"
    },
    "tags": []
   },
   "outputs": [
    {
     "data": {
      "text/plain": [
       "((69419,), (2000,), 0.5826646883418084, 0.5)"
      ]
     },
     "execution_count": 12,
     "metadata": {},
     "output_type": "execute_result"
    }
   ],
   "source": [
    "train_y = np.array(train_labels) == 0\n",
    "test_y = np.array(test_labels) == 0\n",
    "train_y.shape, test_y.shape, np.mean(train_y), np.mean(test_y)"
   ]
  },
  {
   "cell_type": "code",
   "execution_count": 13,
   "id": "4cd30cb9",
   "metadata": {
    "execution": {
     "iopub.execute_input": "2021-12-04T08:37:48.755419Z",
     "iopub.status.busy": "2021-12-04T08:37:48.730112Z",
     "iopub.status.idle": "2021-12-04T08:38:30.427232Z",
     "shell.execute_reply": "2021-12-04T08:38:30.426226Z",
     "shell.execute_reply.started": "2021-12-04T08:11:09.868419Z"
    },
    "papermill": {
     "duration": 41.743119,
     "end_time": "2021-12-04T08:38:30.427418",
     "exception": false,
     "start_time": "2021-12-04T08:37:48.684299",
     "status": "completed"
    },
    "tags": []
   },
   "outputs": [],
   "source": [
    "train_masks = [[float(i > 0) for i in ii] for ii in train_tokens_ids]\n",
    "test_masks = [[float(i > 0) for i in ii] for ii in test_tokens_ids]"
   ]
  },
  {
   "cell_type": "code",
   "execution_count": 14,
   "id": "c64507eb",
   "metadata": {
    "execution": {
     "iopub.execute_input": "2021-12-04T08:38:30.515774Z",
     "iopub.status.busy": "2021-12-04T08:38:30.514640Z",
     "iopub.status.idle": "2021-12-04T08:38:30.518131Z",
     "shell.execute_reply": "2021-12-04T08:38:30.517563Z",
     "shell.execute_reply.started": "2021-12-04T08:12:47.128247Z"
    },
    "papermill": {
     "duration": 0.047955,
     "end_time": "2021-12-04T08:38:30.518265",
     "exception": false,
     "start_time": "2021-12-04T08:38:30.470310",
     "status": "completed"
    },
    "tags": []
   },
   "outputs": [],
   "source": [
    "#Baseline"
   ]
  },
  {
   "cell_type": "code",
   "execution_count": 15,
   "id": "a24c5d01",
   "metadata": {
    "execution": {
     "iopub.execute_input": "2021-12-04T08:38:30.607456Z",
     "iopub.status.busy": "2021-12-04T08:38:30.606543Z",
     "iopub.status.idle": "2021-12-04T08:38:31.411512Z",
     "shell.execute_reply": "2021-12-04T08:38:31.412202Z",
     "shell.execute_reply.started": "2021-12-04T08:12:48.394843Z"
    },
    "papermill": {
     "duration": 0.853509,
     "end_time": "2021-12-04T08:38:31.412445",
     "exception": false,
     "start_time": "2021-12-04T08:38:30.558936",
     "status": "completed"
    },
    "tags": []
   },
   "outputs": [],
   "source": [
    "from sklearn.feature_extraction.text import CountVectorizer\n",
    "from sklearn.linear_model import LogisticRegression\n",
    "from sklearn.pipeline import make_pipeline\n",
    "from sklearn.metrics import classification_report"
   ]
  },
  {
   "cell_type": "code",
   "execution_count": 16,
   "id": "875c326f",
   "metadata": {
    "execution": {
     "iopub.execute_input": "2021-12-04T08:38:31.499944Z",
     "iopub.status.busy": "2021-12-04T08:38:31.498842Z",
     "iopub.status.idle": "2021-12-04T08:38:31.501651Z",
     "shell.execute_reply": "2021-12-04T08:38:31.502200Z",
     "shell.execute_reply.started": "2021-12-04T08:22:01.449224Z"
    },
    "papermill": {
     "duration": 0.048744,
     "end_time": "2021-12-04T08:38:31.502359",
     "exception": false,
     "start_time": "2021-12-04T08:38:31.453615",
     "status": "completed"
    },
    "tags": []
   },
   "outputs": [],
   "source": [
    "from keras.callbacks import CSVLogger\n",
    "\n",
    "csv_logger = CSVLogger('log.csv', append=True, separator=';')"
   ]
  },
  {
   "cell_type": "code",
   "execution_count": 17,
   "id": "68be05da",
   "metadata": {
    "execution": {
     "iopub.execute_input": "2021-12-04T08:38:31.665430Z",
     "iopub.status.busy": "2021-12-04T08:38:31.655201Z",
     "iopub.status.idle": "2021-12-04T08:38:33.540183Z",
     "shell.execute_reply": "2021-12-04T08:38:33.541592Z",
     "shell.execute_reply.started": "2021-12-04T08:31:29.046097Z"
    },
    "papermill": {
     "duration": 1.957159,
     "end_time": "2021-12-04T08:38:33.541897",
     "exception": false,
     "start_time": "2021-12-04T08:38:31.584738",
     "status": "completed"
    },
    "tags": []
   },
   "outputs": [],
   "source": [
    "baseline_model = make_pipeline(CountVectorizer(ngram_range=(1,3)), LogisticRegression()).fit(train_seq, train_labels)"
   ]
  },
  {
   "cell_type": "code",
   "execution_count": 18,
   "id": "384684b5",
   "metadata": {
    "execution": {
     "iopub.execute_input": "2021-12-04T08:38:33.700716Z",
     "iopub.status.busy": "2021-12-04T08:38:33.699789Z",
     "iopub.status.idle": "2021-12-04T08:38:33.704440Z",
     "shell.execute_reply": "2021-12-04T08:38:33.703689Z",
     "shell.execute_reply.started": "2021-12-04T08:31:39.142586Z"
    },
    "papermill": {
     "duration": 0.080917,
     "end_time": "2021-12-04T08:38:33.704592",
     "exception": false,
     "start_time": "2021-12-04T08:38:33.623675",
     "status": "completed"
    },
    "tags": []
   },
   "outputs": [],
   "source": [
    "baseline_predicted = baseline_model.predict(test_seq)"
   ]
  },
  {
   "cell_type": "code",
   "execution_count": 19,
   "id": "e9f81c63",
   "metadata": {
    "execution": {
     "iopub.execute_input": "2021-12-04T08:38:33.793803Z",
     "iopub.status.busy": "2021-12-04T08:38:33.792548Z",
     "iopub.status.idle": "2021-12-04T08:38:33.811843Z",
     "shell.execute_reply": "2021-12-04T08:38:33.811010Z",
     "shell.execute_reply.started": "2021-12-04T08:33:19.028564Z"
    },
    "papermill": {
     "duration": 0.064783,
     "end_time": "2021-12-04T08:38:33.812048",
     "exception": false,
     "start_time": "2021-12-04T08:38:33.747265",
     "status": "completed"
    },
    "tags": []
   },
   "outputs": [
    {
     "name": "stdout",
     "output_type": "stream",
     "text": [
      "              precision    recall  f1-score   support\n",
      "\n",
      "           0       0.50      1.00      0.67      1000\n",
      "           1       0.00      0.00      0.00      1000\n",
      "\n",
      "    accuracy                           0.50      2000\n",
      "   macro avg       0.25      0.50      0.33      2000\n",
      "weighted avg       0.25      0.50      0.33      2000\n",
      "\n"
     ]
    },
    {
     "name": "stderr",
     "output_type": "stream",
     "text": [
      "/opt/conda/lib/python3.7/site-packages/sklearn/metrics/_classification.py:1221: UndefinedMetricWarning: Precision and F-score are ill-defined and being set to 0.0 in labels with no predicted samples. Use `zero_division` parameter to control this behavior.\n",
      "  _warn_prf(average, modifier, msg_start, len(result))\n"
     ]
    }
   ],
   "source": [
    "print(classification_report(test_labels, baseline_predicted))"
   ]
  },
  {
   "cell_type": "code",
   "execution_count": 20,
   "id": "e9b29658",
   "metadata": {
    "execution": {
     "iopub.execute_input": "2021-12-04T08:38:33.903339Z",
     "iopub.status.busy": "2021-12-04T08:38:33.902284Z",
     "iopub.status.idle": "2021-12-04T08:38:33.906758Z",
     "shell.execute_reply": "2021-12-04T08:38:33.906255Z",
     "shell.execute_reply.started": "2021-11-07T02:06:55.118687Z"
    },
    "papermill": {
     "duration": 0.049852,
     "end_time": "2021-12-04T08:38:33.906902",
     "exception": false,
     "start_time": "2021-12-04T08:38:33.857050",
     "status": "completed"
    },
    "tags": []
   },
   "outputs": [],
   "source": [
    "#BERT model"
   ]
  },
  {
   "cell_type": "code",
   "execution_count": 21,
   "id": "5613d693",
   "metadata": {
    "execution": {
     "iopub.execute_input": "2021-12-04T08:38:33.998415Z",
     "iopub.status.busy": "2021-12-04T08:38:33.997418Z",
     "iopub.status.idle": "2021-12-04T08:38:34.000333Z",
     "shell.execute_reply": "2021-12-04T08:38:34.000899Z",
     "shell.execute_reply.started": "2021-12-04T08:33:30.496035Z"
    },
    "papermill": {
     "duration": 0.053146,
     "end_time": "2021-12-04T08:38:34.001080",
     "exception": false,
     "start_time": "2021-12-04T08:38:33.947934",
     "status": "completed"
    },
    "tags": []
   },
   "outputs": [],
   "source": [
    "class BertBinaryClassifier(nn.Module):\n",
    "    def __init__(self, dropout=0.1):\n",
    "        super(BertBinaryClassifier, self).__init__()\n",
    "\n",
    "        self.bert = BertModel.from_pretrained('bert-base-uncased')\n",
    "\n",
    "        self.dropout = nn.Dropout(dropout)\n",
    "        self.linear = nn.Linear(768, 1)\n",
    "        self.sigmoid = nn.Sigmoid()\n",
    "    \n",
    "    def forward(self, tokens, masks=None):\n",
    "        _, pooled_output = self.bert(tokens, attention_mask=masks, output_all_encoded_layers=False)\n",
    "        dropout_output = self.dropout(pooled_output)\n",
    "        linear_output = self.linear(dropout_output)\n",
    "        proba = self.sigmoid(linear_output)\n",
    "        return proba"
   ]
  },
  {
   "cell_type": "code",
   "execution_count": 22,
   "id": "5ae8592d",
   "metadata": {
    "execution": {
     "iopub.execute_input": "2021-12-04T08:38:34.140513Z",
     "iopub.status.busy": "2021-12-04T08:38:34.138662Z",
     "iopub.status.idle": "2021-12-04T08:38:34.143771Z",
     "shell.execute_reply": "2021-12-04T08:38:34.143250Z",
     "shell.execute_reply.started": "2021-12-04T08:33:33.905663Z"
    },
    "papermill": {
     "duration": 0.100479,
     "end_time": "2021-12-04T08:38:34.143946",
     "exception": false,
     "start_time": "2021-12-04T08:38:34.043467",
     "status": "completed"
    },
    "tags": []
   },
   "outputs": [],
   "source": [
    "device = torch.device(\"cuda\" if torch.cuda.is_available() else \"cpu\")"
   ]
  },
  {
   "cell_type": "code",
   "execution_count": 23,
   "id": "1b64287f",
   "metadata": {
    "execution": {
     "iopub.execute_input": "2021-12-04T08:38:34.235760Z",
     "iopub.status.busy": "2021-12-04T08:38:34.234724Z",
     "iopub.status.idle": "2021-12-04T08:38:34.238380Z",
     "shell.execute_reply": "2021-12-04T08:38:34.238906Z",
     "shell.execute_reply.started": "2021-12-04T08:33:37.528212Z"
    },
    "papermill": {
     "duration": 0.052263,
     "end_time": "2021-12-04T08:38:34.239076",
     "exception": false,
     "start_time": "2021-12-04T08:38:34.186813",
     "status": "completed"
    },
    "tags": []
   },
   "outputs": [
    {
     "data": {
      "text/plain": [
       "'0.0M'"
      ]
     },
     "execution_count": 23,
     "metadata": {},
     "output_type": "execute_result"
    }
   ],
   "source": [
    "str(torch.cuda.memory_allocated(device)/1000000 ) + 'M'"
   ]
  },
  {
   "cell_type": "code",
   "execution_count": 24,
   "id": "221770f1",
   "metadata": {
    "execution": {
     "iopub.execute_input": "2021-12-04T08:38:34.331376Z",
     "iopub.status.busy": "2021-12-04T08:38:34.330701Z",
     "iopub.status.idle": "2021-12-04T08:39:04.524188Z",
     "shell.execute_reply": "2021-12-04T08:39:04.524784Z",
     "shell.execute_reply.started": "2021-12-04T08:33:42.621257Z"
    },
    "papermill": {
     "duration": 30.244276,
     "end_time": "2021-12-04T08:39:04.524995",
     "exception": false,
     "start_time": "2021-12-04T08:38:34.280719",
     "status": "completed"
    },
    "tags": []
   },
   "outputs": [
    {
     "name": "stderr",
     "output_type": "stream",
     "text": [
      "100%|██████████| 407873900/407873900 [00:15<00:00, 26535927.17B/s]\n"
     ]
    }
   ],
   "source": [
    "bert_clf = BertBinaryClassifier()\n",
    "bert_clf = bert_clf.cuda() "
   ]
  },
  {
   "cell_type": "code",
   "execution_count": 25,
   "id": "39164256",
   "metadata": {
    "execution": {
     "iopub.execute_input": "2021-12-04T08:39:04.717198Z",
     "iopub.status.busy": "2021-12-04T08:39:04.716034Z",
     "iopub.status.idle": "2021-12-04T08:39:04.719934Z",
     "shell.execute_reply": "2021-12-04T08:39:04.720537Z",
     "shell.execute_reply.started": "2021-12-04T08:34:01.831740Z"
    },
    "papermill": {
     "duration": 0.102402,
     "end_time": "2021-12-04T08:39:04.720709",
     "exception": false,
     "start_time": "2021-12-04T08:39:04.618307",
     "status": "completed"
    },
    "tags": []
   },
   "outputs": [
    {
     "data": {
      "text/plain": [
       "'439.065088M'"
      ]
     },
     "execution_count": 25,
     "metadata": {},
     "output_type": "execute_result"
    }
   ],
   "source": [
    "str(torch.cuda.memory_allocated(device)/1000000 ) + 'M'"
   ]
  },
  {
   "cell_type": "code",
   "execution_count": 26,
   "id": "9cee7a23",
   "metadata": {
    "execution": {
     "iopub.execute_input": "2021-12-04T08:39:04.910027Z",
     "iopub.status.busy": "2021-12-04T08:39:04.909397Z",
     "iopub.status.idle": "2021-12-04T08:39:05.876499Z",
     "shell.execute_reply": "2021-12-04T08:39:05.877020Z",
     "shell.execute_reply.started": "2021-12-04T08:34:01.849736Z"
    },
    "papermill": {
     "duration": 1.064911,
     "end_time": "2021-12-04T08:39:05.877223",
     "exception": false,
     "start_time": "2021-12-04T08:39:04.812312",
     "status": "completed"
    },
    "tags": []
   },
   "outputs": [
    {
     "data": {
      "text/plain": [
       "(torch.Size([3, 512]), torch.Size([3, 512, 768]), torch.Size([3, 768]))"
      ]
     },
     "execution_count": 26,
     "metadata": {},
     "output_type": "execute_result"
    }
   ],
   "source": [
    "x = torch.tensor(train_tokens_ids[:3]).to(device)\n",
    "y, pooled = bert_clf.bert(x, output_all_encoded_layers=False)\n",
    "x.shape, y.shape, pooled.shape"
   ]
  },
  {
   "cell_type": "code",
   "execution_count": 27,
   "id": "077b063d",
   "metadata": {
    "execution": {
     "iopub.execute_input": "2021-12-04T08:39:06.062794Z",
     "iopub.status.busy": "2021-12-04T08:39:06.062116Z",
     "iopub.status.idle": "2021-12-04T08:39:06.147458Z",
     "shell.execute_reply": "2021-12-04T08:39:06.146739Z",
     "shell.execute_reply.started": "2021-12-04T08:34:03.877456Z"
    },
    "papermill": {
     "duration": 0.180443,
     "end_time": "2021-12-04T08:39:06.147612",
     "exception": false,
     "start_time": "2021-12-04T08:39:05.967169",
     "status": "completed"
    },
    "tags": []
   },
   "outputs": [
    {
     "data": {
      "text/plain": [
       "array([[0.44251397],\n",
       "       [0.46358287],\n",
       "       [0.45854843]], dtype=float32)"
      ]
     },
     "execution_count": 27,
     "metadata": {},
     "output_type": "execute_result"
    }
   ],
   "source": [
    "y = bert_clf(x)  \n",
    "y.cpu().detach().numpy()        # kinda Garbage Collector to free up used and cache space"
   ]
  },
  {
   "cell_type": "code",
   "execution_count": 28,
   "id": "92a010d0",
   "metadata": {
    "execution": {
     "iopub.execute_input": "2021-12-04T08:39:06.346318Z",
     "iopub.status.busy": "2021-12-04T08:39:06.345300Z",
     "iopub.status.idle": "2021-12-04T08:39:06.349139Z",
     "shell.execute_reply": "2021-12-04T08:39:06.349662Z",
     "shell.execute_reply.started": "2021-12-04T08:34:03.976060Z"
    },
    "papermill": {
     "duration": 0.104317,
     "end_time": "2021-12-04T08:39:06.349833",
     "exception": false,
     "start_time": "2021-12-04T08:39:06.245516",
     "status": "completed"
    },
    "tags": []
   },
   "outputs": [
    {
     "data": {
      "text/plain": [
       "'6697.349632M'"
      ]
     },
     "execution_count": 28,
     "metadata": {},
     "output_type": "execute_result"
    }
   ],
   "source": [
    "# Cross- checking CUDA GPU Memory to ensure GPU memory is not overflowing.\n",
    "str(torch.cuda.memory_allocated(device)/1000000 ) + 'M'"
   ]
  },
  {
   "cell_type": "code",
   "execution_count": 29,
   "id": "0414becf",
   "metadata": {
    "execution": {
     "iopub.execute_input": "2021-12-04T08:39:06.542494Z",
     "iopub.status.busy": "2021-12-04T08:39:06.536598Z",
     "iopub.status.idle": "2021-12-04T08:39:06.784699Z",
     "shell.execute_reply": "2021-12-04T08:39:06.785456Z",
     "shell.execute_reply.started": "2021-12-04T08:34:03.983771Z"
    },
    "papermill": {
     "duration": 0.343745,
     "end_time": "2021-12-04T08:39:06.785663",
     "exception": false,
     "start_time": "2021-12-04T08:39:06.441918",
     "status": "completed"
    },
    "tags": []
   },
   "outputs": [
    {
     "data": {
      "text/plain": [
       "'439.065088M'"
      ]
     },
     "execution_count": 29,
     "metadata": {},
     "output_type": "execute_result"
    }
   ],
   "source": [
    "y, x, pooled = None, None, None\n",
    "torch.cuda.empty_cache()     # Clearing Cache space for fresh Model run\n",
    "str(torch.cuda.memory_allocated(device)/1000000 ) + 'M'"
   ]
  },
  {
   "cell_type": "code",
   "execution_count": 30,
   "id": "21671bf8",
   "metadata": {
    "execution": {
     "iopub.execute_input": "2021-12-04T08:39:06.975468Z",
     "iopub.status.busy": "2021-12-04T08:39:06.974344Z",
     "iopub.status.idle": "2021-12-04T08:39:06.977443Z",
     "shell.execute_reply": "2021-12-04T08:39:06.976728Z",
     "shell.execute_reply.started": "2021-11-07T02:07:19.678155Z"
    },
    "papermill": {
     "duration": 0.09887,
     "end_time": "2021-12-04T08:39:06.977578",
     "exception": false,
     "start_time": "2021-12-04T08:39:06.878708",
     "status": "completed"
    },
    "tags": []
   },
   "outputs": [],
   "source": [
    "#Fine Tune BERT"
   ]
  },
  {
   "cell_type": "code",
   "execution_count": 31,
   "id": "0d80bbe3",
   "metadata": {
    "execution": {
     "iopub.execute_input": "2021-12-04T08:39:07.168548Z",
     "iopub.status.busy": "2021-12-04T08:39:07.167512Z",
     "iopub.status.idle": "2021-12-04T08:39:07.170196Z",
     "shell.execute_reply": "2021-12-04T08:39:07.170696Z",
     "shell.execute_reply.started": "2021-12-04T08:34:04.239186Z"
    },
    "papermill": {
     "duration": 0.099984,
     "end_time": "2021-12-04T08:39:07.170879",
     "exception": false,
     "start_time": "2021-12-04T08:39:07.070895",
     "status": "completed"
    },
    "tags": []
   },
   "outputs": [],
   "source": [
    "# Setting hyper-parameters\n",
    "\n",
    "BATCH_SIZE = 8\n",
    "EPOCHS = 5"
   ]
  },
  {
   "cell_type": "code",
   "execution_count": 32,
   "id": "2ea16c3c",
   "metadata": {
    "execution": {
     "iopub.execute_input": "2021-12-04T08:39:07.363084Z",
     "iopub.status.busy": "2021-12-04T08:39:07.361860Z",
     "iopub.status.idle": "2021-12-04T08:39:10.447958Z",
     "shell.execute_reply": "2021-12-04T08:39:10.449332Z",
     "shell.execute_reply.started": "2021-12-04T08:34:04.247509Z"
    },
    "papermill": {
     "duration": 3.186568,
     "end_time": "2021-12-04T08:39:10.449592",
     "exception": false,
     "start_time": "2021-12-04T08:39:07.263024",
     "status": "completed"
    },
    "tags": []
   },
   "outputs": [
    {
     "data": {
      "text/plain": [
       "'439.065088M'"
      ]
     },
     "execution_count": 32,
     "metadata": {},
     "output_type": "execute_result"
    }
   ],
   "source": [
    "train_tokens_tensor = torch.tensor(train_tokens_ids)\n",
    "train_y_tensor = torch.tensor(train_y.reshape(-1, 1)).float()\n",
    "\n",
    "test_tokens_tensor = torch.tensor(test_tokens_ids)\n",
    "test_y_tensor = torch.tensor(test_y.reshape(-1, 1)).float()\n",
    "\n",
    "train_masks_tensor = torch.tensor(train_masks)\n",
    "test_masks_tensor = torch.tensor(test_masks)\n",
    "\n",
    "str(torch.cuda.memory_allocated(device)/1000000 ) + 'M'"
   ]
  },
  {
   "cell_type": "code",
   "execution_count": 33,
   "id": "e792169c",
   "metadata": {
    "execution": {
     "iopub.execute_input": "2021-12-04T08:39:10.783784Z",
     "iopub.status.busy": "2021-12-04T08:39:10.782772Z",
     "iopub.status.idle": "2021-12-04T08:39:10.787118Z",
     "shell.execute_reply": "2021-12-04T08:39:10.787902Z",
     "shell.execute_reply.started": "2021-12-04T08:34:07.493543Z"
    },
    "papermill": {
     "duration": 0.17292,
     "end_time": "2021-12-04T08:39:10.788174",
     "exception": false,
     "start_time": "2021-12-04T08:39:10.615254",
     "status": "completed"
    },
    "tags": []
   },
   "outputs": [],
   "source": [
    "train_dataset = TensorDataset(train_tokens_tensor, train_masks_tensor, train_y_tensor)\n",
    "train_sampler = RandomSampler(train_dataset)\n",
    "train_dataloader = DataLoader(train_dataset, sampler=train_sampler, batch_size=BATCH_SIZE)\n",
    "\n",
    "test_dataset = TensorDataset(test_tokens_tensor, test_masks_tensor, test_y_tensor)\n",
    "test_sampler = SequentialSampler(test_dataset)\n",
    "test_dataloader = DataLoader(test_dataset, sampler=test_sampler, batch_size=BATCH_SIZE)"
   ]
  },
  {
   "cell_type": "code",
   "execution_count": 34,
   "id": "9a6a98ba",
   "metadata": {
    "execution": {
     "iopub.execute_input": "2021-12-04T08:39:11.148899Z",
     "iopub.status.busy": "2021-12-04T08:39:11.147806Z",
     "iopub.status.idle": "2021-12-04T08:39:11.152027Z",
     "shell.execute_reply": "2021-12-04T08:39:11.152813Z",
     "shell.execute_reply.started": "2021-12-04T08:34:12.778713Z"
    },
    "papermill": {
     "duration": 0.174621,
     "end_time": "2021-12-04T08:39:11.153082",
     "exception": false,
     "start_time": "2021-12-04T08:39:10.978461",
     "status": "completed"
    },
    "tags": []
   },
   "outputs": [],
   "source": [
    "param_optimizer = list(bert_clf.sigmoid.named_parameters()) \n",
    "optimizer_grouped_parameters = [{\"params\": [p for n, p in param_optimizer]}]"
   ]
  },
  {
   "cell_type": "code",
   "execution_count": 35,
   "id": "7414d98f",
   "metadata": {
    "execution": {
     "iopub.execute_input": "2021-12-04T08:39:11.484939Z",
     "iopub.status.busy": "2021-12-04T08:39:11.483857Z",
     "iopub.status.idle": "2021-12-04T08:39:11.493828Z",
     "shell.execute_reply": "2021-12-04T08:39:11.494618Z",
     "shell.execute_reply.started": "2021-12-04T08:34:16.381444Z"
    },
    "papermill": {
     "duration": 0.180722,
     "end_time": "2021-12-04T08:39:11.494906",
     "exception": false,
     "start_time": "2021-12-04T08:39:11.314184",
     "status": "completed"
    },
    "tags": []
   },
   "outputs": [],
   "source": [
    "optimizer = Adam(bert_clf.parameters(), lr=3e-6)"
   ]
  },
  {
   "cell_type": "code",
   "execution_count": 36,
   "id": "a982384f",
   "metadata": {
    "execution": {
     "iopub.execute_input": "2021-12-04T08:39:11.816982Z",
     "iopub.status.busy": "2021-12-04T08:39:11.815782Z",
     "iopub.status.idle": "2021-12-04T08:39:11.818869Z",
     "shell.execute_reply": "2021-12-04T08:39:11.817967Z",
     "shell.execute_reply.started": "2021-12-04T08:34:18.334985Z"
    },
    "papermill": {
     "duration": 0.167292,
     "end_time": "2021-12-04T08:39:11.819091",
     "exception": false,
     "start_time": "2021-12-04T08:39:11.651799",
     "status": "completed"
    },
    "tags": []
   },
   "outputs": [],
   "source": [
    "torch.cuda.empty_cache()"
   ]
  },
  {
   "cell_type": "code",
   "execution_count": 37,
   "id": "9f6839da",
   "metadata": {
    "execution": {
     "iopub.execute_input": "2021-12-04T08:39:12.136331Z",
     "iopub.status.busy": "2021-12-04T08:39:12.135301Z",
     "iopub.status.idle": "2021-12-04T15:20:56.625776Z",
     "shell.execute_reply": "2021-12-04T15:20:56.625206Z"
    },
    "papermill": {
     "duration": 24104.651193,
     "end_time": "2021-12-04T15:20:56.625956",
     "exception": false,
     "start_time": "2021-12-04T08:39:11.974763",
     "status": "completed"
    },
    "tags": []
   },
   "outputs": [
    {
     "name": "stdout",
     "output_type": "stream",
     "text": [
      "Epoch:  5\n",
      "8677/8677.375 loss: 0.6704716648332093 \n"
     ]
    }
   ],
   "source": [
    "for epoch_num in range(EPOCHS):\n",
    "    bert_clf.train()\n",
    "    train_loss = 0\n",
    "    for step_num, batch_data in enumerate(train_dataloader):\n",
    "        token_ids, masks, labels = tuple(t.to(device) for t in batch_data)\n",
    "        print(str(torch.cuda.memory_allocated(device)/1000000 ) + 'M')\n",
    "        logits = bert_clf(token_ids, masks)\n",
    "        \n",
    "        loss_func = nn.BCELoss()\n",
    "\n",
    "        batch_loss = loss_func(logits, labels)\n",
    "        train_loss += batch_loss.item()\n",
    "        \n",
    "        \n",
    "        bert_clf.zero_grad()\n",
    "        batch_loss.backward()\n",
    "        \n",
    "\n",
    "        clip_grad_norm_(parameters=bert_clf.parameters(), max_norm=1.0)\n",
    "        optimizer.step()\n",
    "        \n",
    "        clear_output(wait=True)\n",
    "        print('Epoch: ', epoch_num + 1)\n",
    "        print(\"\\r\" + \"{0}/{1} loss: {2} \".format(step_num, len(train_data) / BATCH_SIZE, train_loss / (step_num + 1)))"
   ]
  },
  {
   "cell_type": "code",
   "execution_count": 38,
   "id": "50c3cdda",
   "metadata": {
    "execution": {
     "iopub.execute_input": "2021-12-04T15:20:56.828314Z",
     "iopub.status.busy": "2021-12-04T15:20:56.827231Z",
     "iopub.status.idle": "2021-12-04T15:21:38.836631Z",
     "shell.execute_reply": "2021-12-04T15:21:38.835936Z"
    },
    "papermill": {
     "duration": 42.115546,
     "end_time": "2021-12-04T15:21:38.836797",
     "exception": false,
     "start_time": "2021-12-04T15:20:56.721251",
     "status": "completed"
    },
    "tags": []
   },
   "outputs": [],
   "source": [
    "bert_clf.eval()\n",
    "bert_predicted = []\n",
    "all_logits = []\n",
    "with torch.no_grad():\n",
    "    for step_num, batch_data in enumerate(test_dataloader):\n",
    "\n",
    "        token_ids, masks, labels = tuple(t.to(device) for t in batch_data)\n",
    "\n",
    "        logits = bert_clf(token_ids, masks)\n",
    "        loss_func = nn.BCELoss()\n",
    "        loss = loss_func(logits, labels)\n",
    "        numpy_logits = logits.cpu().detach().numpy()\n",
    "        \n",
    "        bert_predicted += list(numpy_logits[:, 0] > 0.5)\n",
    "        all_logits += list(numpy_logits[:, 0])"
   ]
  },
  {
   "cell_type": "code",
   "execution_count": 39,
   "id": "4590303a",
   "metadata": {
    "execution": {
     "iopub.execute_input": "2021-12-04T15:21:39.031417Z",
     "iopub.status.busy": "2021-12-04T15:21:39.030427Z",
     "iopub.status.idle": "2021-12-04T15:21:39.034187Z",
     "shell.execute_reply": "2021-12-04T15:21:39.034775Z"
    },
    "papermill": {
     "duration": 0.104428,
     "end_time": "2021-12-04T15:21:39.034927",
     "exception": false,
     "start_time": "2021-12-04T15:21:38.930499",
     "status": "completed"
    },
    "tags": []
   },
   "outputs": [
    {
     "data": {
      "text/plain": [
       "0.979"
      ]
     },
     "execution_count": 39,
     "metadata": {},
     "output_type": "execute_result"
    }
   ],
   "source": [
    "np.mean(bert_predicted)"
   ]
  },
  {
   "cell_type": "code",
   "execution_count": 40,
   "id": "9494c413",
   "metadata": {
    "execution": {
     "iopub.execute_input": "2021-12-04T15:21:39.226078Z",
     "iopub.status.busy": "2021-12-04T15:21:39.225137Z",
     "iopub.status.idle": "2021-12-04T15:21:39.237428Z",
     "shell.execute_reply": "2021-12-04T15:21:39.236830Z"
    },
    "papermill": {
     "duration": 0.108403,
     "end_time": "2021-12-04T15:21:39.237564",
     "exception": false,
     "start_time": "2021-12-04T15:21:39.129161",
     "status": "completed"
    },
    "tags": []
   },
   "outputs": [
    {
     "name": "stdout",
     "output_type": "stream",
     "text": [
      "              precision    recall  f1-score   support\n",
      "\n",
      "       False       0.83      0.04      0.07      1000\n",
      "        True       0.51      0.99      0.67      1000\n",
      "\n",
      "    accuracy                           0.51      2000\n",
      "   macro avg       0.67      0.51      0.37      2000\n",
      "weighted avg       0.67      0.51      0.37      2000\n",
      "\n"
     ]
    }
   ],
   "source": [
    "print(classification_report(test_y, bert_predicted))"
   ]
  }
 ],
 "metadata": {
  "kernelspec": {
   "display_name": "Python 3",
   "language": "python",
   "name": "python3"
  },
  "language_info": {
   "codemirror_mode": {
    "name": "ipython",
    "version": 3
   },
   "file_extension": ".py",
   "mimetype": "text/x-python",
   "name": "python",
   "nbconvert_exporter": "python",
   "pygments_lexer": "ipython3",
   "version": "3.7.10"
  },
  "papermill": {
   "default_parameters": {},
   "duration": 24361.002388,
   "end_time": "2021-12-04T15:21:43.025678",
   "environment_variables": {},
   "exception": null,
   "input_path": "__notebook__.ipynb",
   "output_path": "__notebook__.ipynb",
   "parameters": {},
   "start_time": "2021-12-04T08:35:42.023290",
   "version": "2.3.3"
  }
 },
 "nbformat": 4,
 "nbformat_minor": 5
}
